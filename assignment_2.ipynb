{
 "cells": [
  {
   "cell_type": "markdown",
   "id": "d7938159",
   "metadata": {},
   "source": [
    "# Cross Validation on-K"
   ]
  },
  {
   "cell_type": "code",
   "execution_count": null,
   "id": "1ebc78a0",
   "metadata": {},
   "outputs": [],
   "source": [
    "import numpy as np\n",
    "import matplotlib.pyplot as plt\n",
    "import tensorflow as tf\n",
    "\n",
    "(X_train, Y_train),(X_test, Y_test) = tf.keras.datasets.cifar10.load_data()\n",
    "print('Training data shape: ', X_train.shape)\n",
    "print('Training labels shape: ', Y_train.shape)\n",
    "print('Test data shape: ', X_test.shape)\n",
    "print('Test labels shape: ', Y_test.shape)\n"
   ]
  },
  {
   "cell_type": "markdown",
   "id": "c99f1db1",
   "metadata": {},
   "source": [
    "## Sub Sampling"
   ]
  },
  {
   "cell_type": "code",
   "execution_count": null,
   "id": "11b0aefe",
   "metadata": {},
   "outputs": [],
   "source": [
    "num_training = 5000\n",
    "mask = list(range(num_training))\n",
    "X_train = X_train[mask]\n",
    "Y_train = Y_train[mask]\n",
    "\n",
    "num_test = 500\n",
    "mask = list(range(num_test))\n",
    "X_test = X_test[mask]\n",
    "Y_test = Y_test[mask]"
   ]
  },
  {
   "cell_type": "markdown",
   "id": "2ec39159",
   "metadata": {},
   "source": [
    "## Reshape Image Data"
   ]
  },
  {
   "cell_type": "code",
   "execution_count": null,
   "id": "6464d5bb",
   "metadata": {},
   "outputs": [],
   "source": [
    "X_train = np.reshape(X_train, (X_train.shape[0], -1))\n",
    "X_test = np.reshape(X_test, (X_test.shape[0], -1))\n",
    "print(X_train.shape, X_test.shape)"
   ]
  },
  {
   "cell_type": "code",
   "execution_count": null,
   "id": "10e2f4f3",
   "metadata": {},
   "outputs": [],
   "source": [
    "from KNN import KNearestNeighbor\n",
    "\n",
    "num_folds = 5\n",
    "k_choices = [1, 3, 5, 8, 10, 12, 15, 20, 50, 100]\n",
    "\n",
    "X_train_folds = []\n",
    "y_train_folds = []\n",
    "\n",
    "X_train_folds = np.array_split(X_train, num_folds)\n",
    "y_train_folds = np.array_split(Y_train, num_folds)\n",
    "\n",
    "k_to_accuracies = {}\n",
    "\n",
    "classifier = KNearestNeighbor()\n",
    "for k in k_choices:\n",
    "    accuracies = []\n",
    "    for fold in range(num_folds):\n",
    "        temp_X = X_train_folds[:]\n",
    "        temp_y = y_train_folds[:]\n",
    "        X_val_fold = temp_X.pop(fold)\n",
    "        y_val_fold = temp_y.pop(fold)\n",
    "        temp_X = np.array([y for x in temp_X for y in x])\n",
    "        temp_y = np.array([y for x in temp_y for y in x])\n",
    "        classifier.train(temp_X,temp_y)\n",
    "        y_val_pred = classifier.predict(X_val_fold,k=k)\n",
    "        num_correct = np.sum(y_val_fold == y_val_pred)\n",
    "        accuracies.append(num_correct / y_val_fold.shape[0])\n",
    "    k_to_accuracies[k] = accuracies\n",
    "    \n",
    "    \n",
    "for k in sorted(k_to_accuracies):\n",
    "    for accuracy in k_to_accuracies[k]:\n",
    "        print('k = %d, accuracy = %f' % (k, accuracy))\n",
    "        \n",
    "\n"
   ]
  },
  {
   "cell_type": "markdown",
   "id": "470e2cca",
   "metadata": {},
   "source": [
    "## Plotting"
   ]
  },
  {
   "cell_type": "code",
   "execution_count": null,
   "id": "16a24f1c",
   "metadata": {},
   "outputs": [],
   "source": [
    "for k in k_choices:\n",
    "    accuracies = k_to_accuracies[k]\n",
    "    plt.scatter([k] * len(accuracies), accuracies)\n",
    "\n",
    "accuracies_mean = np.array([np.mean(v) for k,v in sorted(k_to_accuracies.items())])\n",
    "accuracies_std = np.array([np.std(v) for k,v in sorted(k_to_accuracies.items())])\n",
    "plt.errorbar(k_choices, accuracies_mean, yerr=accuracies_std)\n",
    "plt.title('Cross-validation on k')\n",
    "plt.xlabel('k')\n",
    "plt.ylabel('Cross-validation accuracy')\n",
    "plt.show()"
   ]
  },
  {
   "cell_type": "code",
   "execution_count": null,
   "id": "bcaaf7d3",
   "metadata": {},
   "outputs": [],
   "source": []
  }
 ],
 "metadata": {
  "kernelspec": {
   "display_name": "cvpr tf2.x py3.8",
   "language": "python",
   "name": "cvpr"
  },
  "language_info": {
   "codemirror_mode": {
    "name": "ipython",
    "version": 3
   },
   "file_extension": ".py",
   "mimetype": "text/x-python",
   "name": "python",
   "nbconvert_exporter": "python",
   "pygments_lexer": "ipython3",
   "version": "3.8.11"
  }
 },
 "nbformat": 4,
 "nbformat_minor": 5
}
