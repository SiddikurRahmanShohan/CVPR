{
 "cells": [
  {
   "cell_type": "code",
   "execution_count": 1,
   "id": "7e40dad1",
   "metadata": {},
   "outputs": [],
   "source": [
    "import os\n",
    "import cv2\n",
    "import random\n",
    "import joblib\n",
    "from tqdm import tqdm\n",
    "import numpy as np\n",
    "import matplotlib.pyplot as plt"
   ]
  },
  {
   "cell_type": "code",
   "execution_count": 2,
   "id": "3d18907e",
   "metadata": {},
   "outputs": [],
   "source": [
    "DATA_DIR = 'D:\\Documents\\CVPR\\DataSets\\Face Mask Dataset'\n",
    "TRAIN_DATA_DIR = os.path.join(DATA_DIR, 'Train')\n",
    "VALID_DATA_DIR = os.path.join(DATA_DIR, 'Validation')\n",
    "TEST_DATA_DIR = os.path.join(DATA_DIR, 'Test')"
   ]
  },
  {
   "cell_type": "code",
   "execution_count": 3,
   "id": "2e91f9a1",
   "metadata": {},
   "outputs": [
    {
     "name": "stdout",
     "output_type": "stream",
     "text": [
      "['WithMask', 'WithoutMask']\n"
     ]
    }
   ],
   "source": [
    "IMG_SIZE = 64\n",
    "CATEGORIES = []\n",
    "\n",
    "for i in os.listdir(TRAIN_DATA_DIR):\n",
    "    CATEGORIES.append(i)\n",
    "    \n",
    "print(CATEGORIES)"
   ]
  },
  {
   "cell_type": "code",
   "execution_count": 4,
   "id": "e961c9f4",
   "metadata": {},
   "outputs": [
    {
     "name": "stderr",
     "output_type": "stream",
     "text": [
      "100%|█████████████████████████████████████████████████████████████████████████████| 5000/5000 [00:49<00:00, 100.32it/s]\n",
      "100%|█████████████████████████████████████████████████████████████████████████████| 5000/5000 [00:30<00:00, 162.04it/s]"
     ]
    },
    {
     "name": "stdout",
     "output_type": "stream",
     "text": [
      "10000\n"
     ]
    },
    {
     "name": "stderr",
     "output_type": "stream",
     "text": [
      "\n"
     ]
    }
   ],
   "source": [
    "training_data = []\n",
    "\n",
    "for c in CATEGORIES:\n",
    "    path = os.path.join(TRAIN_DATA_DIR, c)\n",
    "    class_num = CATEGORIES.index(c) # 0\n",
    "    for img in tqdm(os.listdir(path)):\n",
    "        try:\n",
    "            img_array = cv2.imread(os.path.join(path, img))   # read the image\n",
    "            img_resized = cv2.resize(img_array, (IMG_SIZE, IMG_SIZE))  # resize the image\n",
    "            training_data.append([img_resized, class_num]) # [ [img, 0], [], [], [], ...., []]\n",
    "        except WException as e:\n",
    "            pass\n",
    "        \n",
    "print(len(training_data))"
   ]
  },
  {
   "cell_type": "code",
   "execution_count": 5,
   "id": "40f61891",
   "metadata": {},
   "outputs": [
    {
     "name": "stderr",
     "output_type": "stream",
     "text": [
      "100%|███████████████████████████████████████████████████████████████████████████████| 400/400 [00:03<00:00, 102.00it/s]\n",
      "100%|███████████████████████████████████████████████████████████████████████████████| 400/400 [00:02<00:00, 167.92it/s]"
     ]
    },
    {
     "name": "stdout",
     "output_type": "stream",
     "text": [
      "800\n"
     ]
    },
    {
     "name": "stderr",
     "output_type": "stream",
     "text": [
      "\n"
     ]
    }
   ],
   "source": [
    "valid_data = []\n",
    "\n",
    "for c in CATEGORIES:\n",
    "    path = os.path.join(VALID_DATA_DIR, c) \n",
    "    class_num = CATEGORIES.index(c) \n",
    "    for img in tqdm(os.listdir(path)):\n",
    "        try:\n",
    "            img_array = cv2.imread(os.path.join(path, img))   \n",
    "            img_resized = cv2.resize(img_array, (IMG_SIZE, IMG_SIZE))  \n",
    "            valid_data.append([img_resized, class_num])\n",
    "        except WException as e:\n",
    "            pass\n",
    "        \n",
    "print(len(valid_data))"
   ]
  },
  {
   "cell_type": "code",
   "execution_count": 6,
   "id": "7810acd5",
   "metadata": {},
   "outputs": [
    {
     "name": "stderr",
     "output_type": "stream",
     "text": [
      "100%|███████████████████████████████████████████████████████████████████████████████| 483/483 [00:04<00:00, 104.51it/s]\n",
      "100%|███████████████████████████████████████████████████████████████████████████████| 509/509 [00:03<00:00, 142.01it/s]"
     ]
    },
    {
     "name": "stdout",
     "output_type": "stream",
     "text": [
      "992\n"
     ]
    },
    {
     "name": "stderr",
     "output_type": "stream",
     "text": [
      "\n"
     ]
    }
   ],
   "source": [
    "test_data = []\n",
    "\n",
    "for c in CATEGORIES:\n",
    "    path = os.path.join(TEST_DATA_DIR, c) \n",
    "    class_num = CATEGORIES.index(c) \n",
    "    for img in tqdm(os.listdir(path)):\n",
    "        try:\n",
    "            img_array = cv2.imread(os.path.join(path, img))   \n",
    "            img_resized = cv2.resize(img_array, (IMG_SIZE, IMG_SIZE))  \n",
    "            test_data.append([img_resized, class_num])\n",
    "        except WException as e:\n",
    "            pass\n",
    "        \n",
    "print(len(test_data))"
   ]
  },
  {
   "cell_type": "code",
   "execution_count": 7,
   "id": "f2852415",
   "metadata": {},
   "outputs": [],
   "source": [
    "random.shuffle(training_data)\n",
    "random.shuffle(valid_data)\n",
    "random.shuffle(test_data)"
   ]
  },
  {
   "cell_type": "code",
   "execution_count": 8,
   "id": "48ac04df",
   "metadata": {},
   "outputs": [
    {
     "name": "stdout",
     "output_type": "stream",
     "text": [
      "X_train= (10000, 64, 64, 3) Y_train= (10000,)\n"
     ]
    }
   ],
   "source": [
    "X_train = []\n",
    "Y_train = []\n",
    "\n",
    "for img, label in training_data:\n",
    "    X_train.append(img)\n",
    "    Y_train.append(label)\n",
    "    \n",
    "X_train = np.array(X_train).astype('float32').reshape(-1,64,64,3)\n",
    "Y_train = np.array(Y_train)\n",
    "\n",
    "print(f\"X_train= {X_train.shape} Y_train= {Y_train.shape}\")"
   ]
  },
  {
   "cell_type": "code",
   "execution_count": 9,
   "id": "1ca370c8",
   "metadata": {},
   "outputs": [
    {
     "name": "stdout",
     "output_type": "stream",
     "text": [
      "X_valid= (800, 64, 64, 3) Y_valid= (800,)\n"
     ]
    }
   ],
   "source": [
    "X_valid = []\n",
    "Y_valid = []\n",
    "\n",
    "for img, label in valid_data:\n",
    "    X_valid.append(img)\n",
    "    Y_valid.append(label)\n",
    "    \n",
    "X_valid = np.array(X_valid).astype('float32').reshape(-1,64,64,3)\n",
    "Y_valid = np.array(Y_valid)\n",
    "\n",
    "print(f\"X_valid= {X_valid.shape} Y_valid= {Y_valid.shape}\")"
   ]
  },
  {
   "cell_type": "code",
   "execution_count": 10,
   "id": "de0a1511",
   "metadata": {},
   "outputs": [
    {
     "name": "stdout",
     "output_type": "stream",
     "text": [
      "X_test= (992, 64, 64, 3) Y_test= (992,)\n"
     ]
    }
   ],
   "source": [
    "X_test = []\n",
    "Y_test = []\n",
    "\n",
    "for features,label in test_data:\n",
    "    X_test.append(features)\n",
    "    Y_test.append(label)\n",
    "\n",
    "X_test = np.array(X_test).astype('float32').reshape(-1, IMG_SIZE, IMG_SIZE, 3)\n",
    "Y_test = np.array(Y_test)\n",
    "\n",
    "print(f\"X_test= {X_test.shape} Y_test= {Y_test.shape}\")"
   ]
  },
  {
   "cell_type": "code",
   "execution_count": 11,
   "id": "dcbcd2e0",
   "metadata": {},
   "outputs": [],
   "source": [
    "\n",
    "\n",
    "joblib_out = open(\"D:/Documents/CVPR/Resources/face_mask/X_train.joblib\",\"wb\")\n",
    "joblib.dump(X_train, joblib_out)\n",
    "joblib_out.close()\n",
    "\n",
    "joblib_out = open(\"D:/Documents/CVPR/Resources/face_mask/Y_train.joblib\",\"wb\")\n",
    "joblib.dump(Y_train, joblib_out)\n",
    "joblib_out.close()\n",
    "\n",
    "joblib_out = open(\"D:/Documents/CVPR/Resources/face_mask/X_test.joblib\",\"wb\")\n",
    "joblib.dump(X_test, joblib_out)\n",
    "joblib_out.close()\n",
    "\n",
    "joblib_out = open(\"D:/Documents/CVPR/Resources/face_mask/Y_test.joblib\",\"wb\")\n",
    "joblib.dump(Y_test, joblib_out)\n",
    "joblib_out.close()\n",
    "\n",
    "joblib_out = open(\"D:/Documents/CVPR/Resources/face_mask/X_valid.joblib\",\"wb\")\n",
    "joblib.dump(X_valid, joblib_out)\n",
    "joblib_out.close()\n",
    "\n",
    "joblib_out = open(\"D:/Documents/CVPR/Resources/face_mask/Y_valid.joblib\",\"wb\")\n",
    "joblib.dump(Y_valid, joblib_out)\n",
    "joblib_out.close()\n",
    "\n"
   ]
  },
  {
   "cell_type": "code",
   "execution_count": null,
   "id": "7cc20cc6",
   "metadata": {},
   "outputs": [],
   "source": []
  }
 ],
 "metadata": {
  "kernelspec": {
   "display_name": "cvpr tf2.x py3.8",
   "language": "python",
   "name": "cvpr"
  },
  "language_info": {
   "codemirror_mode": {
    "name": "ipython",
    "version": 3
   },
   "file_extension": ".py",
   "mimetype": "text/x-python",
   "name": "python",
   "nbconvert_exporter": "python",
   "pygments_lexer": "ipython3",
   "version": "3.8.11"
  }
 },
 "nbformat": 4,
 "nbformat_minor": 5
}
